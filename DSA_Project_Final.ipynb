{
  "nbformat": 4,
  "nbformat_minor": 0,
  "metadata": {
    "colab": {
      "name": "DSA Project Final.ipynb",
      "provenance": []
    },
    "kernelspec": {
      "name": "python3",
      "display_name": "Python 3"
    },
    "language_info": {
      "name": "python"
    }
  },
  "cells": [
    {
      "cell_type": "code",
      "metadata": {
        "colab": {
          "base_uri": "https://localhost:8080/"
        },
        "id": "Kum7GNNVRIm_",
        "outputId": "1d893f13-8333-4278-8f8d-5f0b22778f16"
      },
      "source": [
        "import time\n",
        "import os\n",
        "import sys\n",
        "\n",
        "# Need to mount the drive to access files from google drive\n",
        "from google.colab import drive, files\n",
        "drive.mount('/content/drive')"
      ],
      "execution_count": 1,
      "outputs": [
        {
          "output_type": "stream",
          "text": [
            "Mounted at /content/drive\n"
          ],
          "name": "stdout"
        }
      ]
    },
    {
      "cell_type": "markdown",
      "metadata": {
        "id": "T0zGKeZbeOOu"
      },
      "source": [
        "**KMP Algorithm**"
      ]
    },
    {
      "cell_type": "code",
      "metadata": {
        "id": "KwWTX3e3ghu9"
      },
      "source": [
        " # Code written in refernce from https://www.geeksforgeeks.org/kmp-algorithm-for-pattern-searching/\n",
        "\n",
        "class KMP:\n",
        "\n",
        "    def search(self,pat, txt): \n",
        "        M = len(pat) \n",
        "        N = len(txt)\n",
        "        count = []\n",
        "      \n",
        "        # create lps[] that will hold the longest prefix suffix  \n",
        "        # values for pattern \n",
        "        lps = [0]*M \n",
        "        j = 0 # index for pat[] \n",
        "      \n",
        "        # Preprocess the pattern (calculate lps[] array) \n",
        "        self.calculate(pat, M, lps) \n",
        "      \n",
        "        i = 0 # index for txt[] \n",
        "        while i < N: \n",
        "            if pat[j] == txt[i]: \n",
        "                i += 1\n",
        "                j += 1\n",
        "      \n",
        "            if j == M: \n",
        "                #print(\"Pattern found at index \",(i-j))    # Uncomment this to find position of match\n",
        "                count.append((i-j))\n",
        "                j = lps[j-1] \n",
        "      \n",
        "            # mismatch after j matches \n",
        "            elif i < N and pat[j] != txt[i]: \n",
        "                # Do not match lps[0..lps[j-1]] characters, \n",
        "                # they will match anyway \n",
        "                if j != 0: \n",
        "                    j = lps[j-1] \n",
        "                else: \n",
        "                    i += 1\n",
        "\n",
        "\n",
        "        print(\"The number of matches found are: \", len(count))\n",
        "      \n",
        "    def calculate(self,pat, M, lps): \n",
        "        len = 0 # length of the previous longest prefix suffix \n",
        "      \n",
        "        lps[0] # lps[0] is always 0 \n",
        "        i = 1\n",
        "      \n",
        "        # the loop calculates lps[i] for i = 1 to M-1 \n",
        "        while i < M: \n",
        "            if pat[i]== pat[len]: \n",
        "                len += 1\n",
        "                lps[i] = len\n",
        "                i += 1\n",
        "            else: \n",
        "                \n",
        "                if len != 0: \n",
        "                    len = lps[len-1] \n",
        "      \n",
        "                    # Also, note that we do not increment i here \n",
        "                else: \n",
        "                    lps[i] = 0\n",
        "                    i += 1 "
      ],
      "execution_count": 9,
      "outputs": []
    },
    {
      "cell_type": "markdown",
      "metadata": {
        "id": "4BaJShzEeWuN"
      },
      "source": [
        "**Rabin Karp Algorithm**"
      ]
    },
    {
      "cell_type": "code",
      "metadata": {
        "id": "tJwxtr50K8jY"
      },
      "source": [
        "# Code written in reference from Rabin Karp algorithm CLRS book\n",
        "  \n",
        "# pat  -> pattern \n",
        "# txt  -> text \n",
        "# q    -> A prime number which is large (size MN)\n",
        "\n",
        "class RK:\n",
        "\n",
        "\n",
        "    def search(self,pat, txt, q):\n",
        "        count = [] \n",
        "        M = len(pat) \n",
        "        N = len(txt) \n",
        "        i = 0\n",
        "        j = 0\n",
        "        p = 0    # hash value for pattern \n",
        "        t = 0    # hash value for txt \n",
        "        h = 1\n",
        "        d = 256 # d is the number of characters in the input alphabet \n",
        "      \n",
        "        # The value of h would be \"pow(d, M-1)%q\" \n",
        "        for i in range(M-1): \n",
        "            h = (h*d)%q \n",
        "      \n",
        "        # Calculate the hash value of pattern and first window \n",
        "        # of text \n",
        "        for i in range(M): \n",
        "            p = (d*p + ord(pat[i]))%q \n",
        "            t = (d*t + ord(txt[i]))%q \n",
        "      \n",
        "        # Slide the pattern over text one by one \n",
        "        for i in range(N-M+1): \n",
        "            # Check the hash values of current window of text and \n",
        "            # pattern if the hash values match then only check \n",
        "            # for characters on by one \n",
        "            if p==t: \n",
        "                # Check for characters one by one \n",
        "                for j in range(M): \n",
        "                    if txt[i+j] != pat[j]: \n",
        "                        break\n",
        "      \n",
        "                j+=1\n",
        "                # if p == t and pat[0...M-1] = txt[i, i+1, ...i+M-1] \n",
        "                if j==M: \n",
        "                    #print(\"Pattern found at index \",i)   # Uncomment this to find position of match\n",
        "                    count.append(i) \n",
        "      \n",
        "            # Calculate hash value for next window of text: Remove \n",
        "            # leading digit, add trailing digit \n",
        "            if i < N-M: \n",
        "                t = (d*(t-ord(txt[i])*h) + ord(txt[i+M]))%q \n",
        "      \n",
        "                # We might get negative values of t, converting it to \n",
        "                # positive \n",
        "                if t < 0: \n",
        "                    t = t+q \n",
        "\n",
        "\n",
        "        print(\"The number of matches found are:\",len(count))"
      ],
      "execution_count": 3,
      "outputs": []
    },
    {
      "cell_type": "markdown",
      "metadata": {
        "id": "N-c2GptreqhC"
      },
      "source": [
        "**Boyer Moore Algorithm**"
      ]
    },
    {
      "cell_type": "code",
      "metadata": {
        "id": "VPaffIrVQIAe"
      },
      "source": [
        "# Code written in reference from https://www.geeksforgeeks.org/boyer-moore-algorithm-for-pattern-searching/\n",
        "class BoyerMoore:\n",
        "\n",
        "\tdef search(self,txt, pat): \n",
        "\t\t# Use bad character heuristic\n",
        "\t\tm = len(pat) \n",
        "\t\tn = len(txt)\n",
        "\t\tcount = []\n",
        "\t  \n",
        "\t\t# badCharacterheurictic function called here\n",
        "\t\tbadChar = self.badCharHeuristic(pat, m)  \n",
        "\t  \n",
        "\t\t# s is shift of the pattern with respect to text \n",
        "\t\ts = 0\n",
        "\t\twhile(s <= n-m): \n",
        "\t\t\tj = m-1\n",
        "\t  \n",
        "\t\t\t# Keep reducing index j of pattern while  \n",
        "\t\t\t# characters of pattern and text are matching \n",
        "\t\t\t# at this shift s \n",
        "\t\t\twhile j>=0 and pat[j] == txt[s+j]: \n",
        "\t\t\t\tj -= 1\n",
        "\t  \n",
        "\t\t\t# If the pattern is present at current shift,  \n",
        "\t\t\t# then index j will become -1 after the above loop \n",
        "\t\t\tif j<0: \n",
        "\t\t\t\t#print(\"Pattern occurs at index\",s) # Uncomment this to find the position  of the match\n",
        "\t\t\t\tcount.append(s) \n",
        "\t  \n",
        "\n",
        "\t\t\t\ts += (m-badChar[ord(txt[s+m])] if s+m<n else 1) \n",
        "\t\t\telse: \n",
        "\n",
        "\t\t\t\ts += max(1, j-badChar[ord(txt[s+j])])\n",
        "\n",
        "\t\tprint(\"The number of matches found are:\",len(count))\n",
        "\t  \n",
        "\tdef badCharHeuristic(self,string, size): \n",
        "\t\t# Have used Bad character heuristic preprocessing function here\n",
        "\t\t  \n",
        "\t\t\t# All occurences intialized to -1\n",
        "\t\tbadChar = [-1]*256\n",
        "\t\t  \n",
        "\t\t\t# Fill the actual value of last occurence \n",
        "\t\tfor i in range(size): \n",
        "\t\t\tbadChar[ord(string[i])] = i; \n",
        "\t\t  \n",
        "\t\t# retun the list\n",
        "\t\treturn badChar"
      ],
      "execution_count": 10,
      "outputs": []
    },
    {
      "cell_type": "markdown",
      "metadata": {
        "id": "MqWL9bS8exNx"
      },
      "source": [
        "**Naive Algorithm**"
      ]
    },
    {
      "cell_type": "code",
      "metadata": {
        "id": "AyRZTobbeXMz"
      },
      "source": [
        "# Witten in reference from code present in https://www.geeksforgeeks.org/naive-algorithm-for-pattern-searching/\n",
        "class NAIVE:\n",
        "      \n",
        "    def search(self,pat, txt): \n",
        "        M = len(pat) \n",
        "        N = len(txt) \n",
        "        i = 0\n",
        "        count = []\n",
        "      \n",
        "        while i <= N-M: \n",
        "            # Checking for pattern match  \n",
        "            for j in range(M): \n",
        "                if txt[i+j] != pat[j]: \n",
        "                    break\n",
        "                j += 1\n",
        "      \n",
        "            if j==M:    \n",
        "                #print \"Pattern found at index \" + str(i)    # Uncomment this to find the position  of the match\n",
        "                i = i + M \n",
        "            elif j==0: \n",
        "                i = i + 1\n",
        "            else: \n",
        "                i = i+ j    # Pattern sliding \n",
        "\n",
        "        print(\"The number of matches found are:\",len(count))"
      ],
      "execution_count": 5,
      "outputs": []
    },
    {
      "cell_type": "code",
      "metadata": {
        "colab": {
          "base_uri": "https://localhost:8080/"
        },
        "id": "GQehS59GLcwy",
        "outputId": "cc612d6a-78e4-41b5-e860-a38db60be861"
      },
      "source": [
        "# Testing for our data and checking the time taken. \n",
        "\n",
        "\n",
        "with open('/content/drive/My Drive/TwitterConvCorpus.txt', 'r') as f:   # Change the data path here. Five text files tested for.\n",
        "    data = f.read()\n",
        "\n",
        "text=\"up ago \"  # This is for the Boyer Moore implementation \n",
        "pattern = \"ago\"\n",
        "\n",
        "\n",
        "record={'t':[]}\n",
        "\n",
        "# Rabin Karp algorithm\n",
        "print(\"Rabin Karp\")\n",
        "Rabin = RK()\n",
        "start=time.time()\n",
        "Rabin.search(pattern, data, 101) # just choose any large prime number \n",
        "record['t'].append(time.time() - start)\n",
        "print(record['t'])\n",
        "print(\"***********************\")\n",
        "\n",
        "\n",
        "#Boyer Moore algorithm \n",
        "print(\"Boyer Moore\")\n",
        "record={'t':[]}\n",
        "Boyer = BoyerMoore()\n",
        "start=time.time()\n",
        "Boyer.search(text,pattern)\n",
        "record['t'].append(time.time() - start)\n",
        "print(record['t'])\n",
        "print(\"*******************\")\n",
        "\n",
        "print(\"Naive algorithm\")\n",
        "record={'t':[]}\n",
        "naive = NAIVE()\n",
        "start=time.time()\n",
        "naive.search(pattern,data)\n",
        "record['t'].append(time.time() - start)\n",
        "print(record['t'])\n",
        "print(\"*********************\")\n",
        "\n",
        "print(\"KMP\")\n",
        "record={'t':[]}\n",
        "kmp = KMP()\n",
        "start=time.time()\n",
        "kmp.search(pattern,data)\n",
        "record['t'].append(time.time() - start)\n",
        "print(record['t'])\n",
        "print(\"*******************\")"
      ],
      "execution_count": 11,
      "outputs": [
        {
          "output_type": "stream",
          "text": [
            "Rabin Karp\n",
            "The number of matches found are: 62\n",
            "[0.2989335060119629]\n",
            "***********************\n",
            "Boyer Moore\n",
            "The number of matches found are: 1\n",
            "[0.0010759830474853516]\n",
            "*******************\n",
            "Naive algorithm\n",
            "The number of matches found are: 61\n",
            "[0.3107414245605469]\n",
            "*********************\n",
            "KMP\n",
            "The number of matches found are:  61\n",
            "[0.1779804229736328]\n",
            "*******************\n"
          ],
          "name": "stdout"
        }
      ]
    }
  ]
}